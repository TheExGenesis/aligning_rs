{
 "cells": [
  {
   "cell_type": "code",
   "execution_count": 2,
   "metadata": {},
   "outputs": [],
   "source": [
    "import graph_tool as gt\n",
    "from graph_tool.draw import graph_draw\n",
    "import graph_tool.collection\n",
    "import graph_tool.generation as gen\n",
    "import axelrod as axl\n",
    "import pandas as pd\n",
    "import toolz as tz\n",
    "import numpy as np  \n",
    "import matplotlib.pyplot as plt\n",
    "from random import choice, sample\n",
    "from copy import deepcopy\n",
    "from collections import Counter\n",
    "%matplotlib inline\n"
   ]
  },
  {
   "cell_type": "code",
   "execution_count": 3,
   "metadata": {},
   "outputs": [],
   "source": [
    "# project params\n",
    "outputPath = './sf.png'\n"
   ]
  },
  {
   "cell_type": "code",
   "execution_count": 103,
   "metadata": {},
   "outputs": [],
   "source": [
    "# network params\n",
    "N = _N = 1000\n",
    "_m = 2\n",
    "_c = 0 \n",
    "_gamma = 1\n",
    "\n",
    "# game params\n",
    "_R=1\n",
    "_P=0\n",
    "_T=1.5 # T€[0,2] \n",
    "_S=-.5 # S€[-1,1]\n",
    "\n",
    "# evo params\n",
    "_episode_n = 100\n",
    "_te = 1\n",
    "_ta = 0.5\n",
    "_W = _te/_ta\n",
    "_beta = 0.05"
   ]
  },
  {
   "cell_type": "code",
   "execution_count": 415,
   "metadata": {},
   "outputs": [],
   "source": [
    "'''Init''' \n",
    "C = 'C'\n",
    "D = 'D'\n",
    "def initStrats(N) = [choice([C,D]) for i in range(N)]\n",
    "def initPayoffs(N) = [0 for i in range(N)]\n",
    "\n",
    "'''Graph'''\n",
    "def initGraph(N=_N, m=_m, c=_c, gamma=_gamma) = gen.price_network(N=N, m=m, c=c, gamma=gamma, directed=False)\n",
    "def getNeighborIds(graph, id) = graph.vertex(id).out_neighbors() |> map$(int) |> list\n",
    "def sampleNeighbor(graph, id) = choice(getNeighborIds(graph, id))\n",
    "def sampleNeighborUnique(graph, id1, id2) = set(getNeighborIds(graph, id1)) - set(getNeighborIds(graph, id2)) - set([id2]) |> list |> choice\n",
    "# neighbors of id1 eligible for rewiring id2 to \n",
    "def eligibleNewFriends(graph, id1, id2) = set(getNeighborIds(graph, id1)) - set(getNeighborIds(graph, id2)) - set([id2]) |> list\n",
    "'''Games'''\n",
    "def makeDilemma(R=_R, P=_P, T=_T, S=_S) = {C:{C:[R,R], D:[S,T]}, D:{C:[T,S], D:[P,P]}} # T€[0,2] S€[-1,1]\n",
    "dilemma = makeDilemma()\n",
    "# playDilemma :: [strat] -> id -> id -> float\n",
    "def playDilemma(strats, id1, id2) = dilemma[strats[id1]][strats[id2]]\n",
    "# cumulativePayoffs :: graph -> [strat] # 1 round of all connections playing one another\n",
    "def cumulativePayoffs(graph, strats):\n",
    "    payoffs = initPayoffs(N)\n",
    "    idPlayDilemma = playDilemma$(strats) \n",
    "    for [x,y] in graph.iter_edges():\n",
    "        px,py = idPlayDilemma(x,y)\n",
    "        payoffs[x] += px\n",
    "        payoffs[y] += py\n",
    "    return payoffs\n"
   ]
  },
  {
   "cell_type": "code",
   "execution_count": 402,
   "metadata": {},
   "outputs": [],
   "source": [
    "n = 20\n",
    "g = initGraph(N=n) \n",
    "strats = initStrats(n)\n",
    "payoffs = initPayoffs(n)\n"
   ]
  },
  {
   "cell_type": "code",
   "execution_count": 420,
   "metadata": {},
   "outputs": [
    {
     "data": {
      "text/plain": [
       "array([ 0,  1,  2,  3,  4,  5,  6,  7,  8,  9, 10, 11, 12, 13, 14, 15, 16,\n",
       "       17, 18, 19])"
      ]
     },
     "execution_count": 420,
     "metadata": {},
     "output_type": "execute_result"
    }
   ],
   "source": [
    "g.get_vertices()"
   ]
  },
  {
   "cell_type": "code",
   "execution_count": 442,
   "metadata": {},
   "outputs": [
    {
     "name": "stdout",
     "output_type": "stream",
     "text": [
      "updating 0(D),7(C)\n",
      "updating 2(C),0(D)\n",
      "2,0 no one to switch to\n",
      "updating 3(C),8(C)\n",
      "updating 4(C),11(D)\n",
      "4,11 is lonely\n",
      "updating 5(D),5(D)\n",
      "5,5 no one to switch to\n",
      "updating 6(D),6(D)\n",
      "6,6 no one to switch to\n",
      "updating 7(C),7(C)\n",
      "updating 8(C),8(C)\n",
      "updating 9(C),4(C)\n",
      "updating 10(D),19(C)\n",
      "updating 11(D),4(C)\n",
      "updating 12(D),3(C)\n",
      "updating 13(D),2(C)\n",
      "updating 14(C),14(C)\n",
      "updating 15(C),19(C)\n",
      "updating 16(C),16(C)\n",
      "updating 18(C),19(C)\n",
      "updating 19(C),9(C)\n"
     ]
    },
    {
     "data": {
      "text/plain": [
       "(<Graph object, undirected, with 20 vertices and 37 edges, at 0x7fda1a79fc40>,\n",
       " ['D',\n",
       "  'C',\n",
       "  'C',\n",
       "  'C',\n",
       "  'C',\n",
       "  'D',\n",
       "  'D',\n",
       "  'C',\n",
       "  'C',\n",
       "  'C',\n",
       "  'D',\n",
       "  'D',\n",
       "  'D',\n",
       "  'D',\n",
       "  'C',\n",
       "  'C',\n",
       "  'C',\n",
       "  'C',\n",
       "  'C',\n",
       "  'C'])"
      ]
     },
     "execution_count": 442,
     "metadata": {},
     "output_type": "execute_result"
    }
   ],
   "source": [
    "\n",
    "_g = evoUpdate(n, g, strats, payoffs)\n",
    "\n",
    "_g"
   ]
  },
  {
   "cell_type": "code",
   "execution_count": 428,
   "metadata": {},
   "outputs": [],
   "source": [
    "def isLonely(graph, x) = len(graph.get_all_edges(x)) == 1 #checks if node has only 1 edge\n",
    "\n",
    "def rewireEdge(graph, x, y, z):\n",
    "    _graph = graph\n",
    "    _graph.remove_edge(g.edge(x,y))\n",
    "#     print(f'adding {x},{z}')\n",
    "    _graph.add_edge(x, z)\n",
    "    return _graph\n",
    "\n",
    "'''Structural Update'''\n",
    "def attemptRewire(graph, x, y):\n",
    "    if isLonely(graph, x) or isLonely(graph, y): \n",
    "#         print(f'{x},{y} is lonely')\n",
    "        return graph #enforcing graph connectedness\n",
    "    _graph = graph\n",
    "    eligible = eligibleNewFriends(_graph, y, x)\n",
    "    if not eligible:\n",
    "#         print(f'{x},{y} no one to switch to')\n",
    "        return graph #enforcing graph connectedness\n",
    "    return rewireEdge(graph, x, y, choice(eligible))\n",
    "def updateTies(graph, strats, payoffs, x):\n",
    "    y = sampleNeighbor(graph, x)\n",
    "    print(f'updating {x}({strats[x]}),{y}({strats[y]})')\n",
    "    args = [[x,y], [y,x]]\n",
    "    p = fermi(_beta, payoffs[x] - payoffs[y])        \n",
    "    if (strats[x] == C and strats[y] == D):\n",
    "        return attemptRewire(graph, x, y)\n",
    "    elif (strats[x] == D and strats[y] == D):\n",
    "        return  np.random.choice([0,1], p=[p, 1-p]) |> args[] |*> attemptRewire$(graph)\n",
    "    return graph\n",
    "    \n",
    "'''Strategy Evolution'''\n",
    "def fermi(beta, fitness_diff) = np.clip(1. / (1. + np.exp(beta * fitness_diff, dtype=np.float64)), 0., 1.)\n",
    "def calcK(graph, x, y) = \n",
    "    def deg(z) = graph.vertex(z).out_degree()\n",
    "    max(deg(x), deg(y))\n",
    "def calcD(T=_T, S=_S) = max(T, 1) - min(S, 0)\n",
    "def transProb(calcK, P, x, y) = (P[y] - P[x]) / (calcK(x, y) * calcD())\n",
    "# updateStrat :: graph -> [strat] -> [float] -> id -> strat\n",
    "def updateStrat(graph, strats, payoffs, x) = \n",
    "    _calcK = calcK$(graph)\n",
    "    y = sampleNeighbor(graph, x)\n",
    "    p = transProb(_calcK, payoffs, x, y)\n",
    "    strats[x] if payoffs[x] > payoffs[y] else np.random.choice([strats[y], strats[x]], p=[p, 1-p])\n",
    "# updateStrat :: graph -> [strat] -> [float] -> [strat]\n",
    "def updateStrats(N, graph, strats, payoffs):\n",
    "    _strats = deepcopy(strats)\n",
    "    for x in range(N):\n",
    "        _strats[x] = updateStrat(graph, _strats, payoffs, x)\n",
    "    return _strats\n",
    "# chooses between structural and strat updates\n",
    "def evoUpdate(N, graph, strats, payoffs): \n",
    "    _strats = deepcopy(strats)\n",
    "    _graph = graph\n",
    "    p = 1/(1+_W)\n",
    "    for x in range(N):\n",
    "        doStratUpdate = np.random.choice([True, False], p=[p, 1-p])\n",
    "        if doStratUpdate:\n",
    "            _strats[x] = updateStrat(graph, _strats, payoffs, x)\n",
    "        else:\n",
    "            _graph = updateTies(graph, _strats, payoffs, x)\n",
    "    return _graph, _strats"
   ]
  },
  {
   "cell_type": "code",
   "execution_count": 427,
   "metadata": {},
   "outputs": [],
   "source": [
    "# runEvolution :: int -> graph -> [strat] -> [float] -> [[strat]]\n",
    "def runEvolution(N, episode_n, graph, strats, payoffs):\n",
    "    episodes = [strats]\n",
    "    totalPayoffs = initPayoffs(N)\n",
    "    _strats = []\n",
    "    for i in range(episode_n):\n",
    "        payoffs = cumulativePayoffs(graph, strats)\n",
    "        _graph, _strats = updateStrats(N, graph, strats, payoffs)\n",
    "        episodes.append(deepcopy(_strats))\n",
    "        totalPayoffs = np.add(totalPayoffs, payoffs)\n",
    "        strats = _strats\n",
    "        graph = _graph\n",
    "    return graph, totalPayoffs, episodes\n",
    "\n",
    "def runExperiment(N=_N):\n",
    "    strats = initStrats(N)\n",
    "    totalPayoffs = initPayoffs(N)\n",
    "    graph = initGraph()\n",
    "    graph, totalPayoffs, episodes = runEvolution(50, graph, strats, totalPayoffs)\n",
    "    return (totalPayoffs, episodes)"
   ]
  },
  {
   "cell_type": "code",
   "execution_count": 6,
   "metadata": {},
   "outputs": [],
   "source": [
    "# Plots\n",
    "def drawGraph(graph) = graph_draw(graph, bg_color=\"white\") \n",
    "def plotHist(_list, bins) = pd.Series(_list).hist(bins = bins)\n",
    "def plotStratEvo(episodes) = pd.DataFrame([dict(Counter(ep)) for ep in episodes]).plot.line()"
   ]
  },
  {
   "cell_type": "code",
   "execution_count": 17,
   "metadata": {},
   "outputs": [],
   "source": [
    "totalPayoffs, episodes = runExperiment()"
   ]
  },
  {
   "cell_type": "code",
   "execution_count": null,
   "metadata": {},
   "outputs": [],
   "source": []
  }
 ],
 "metadata": {
  "kernelspec": {
   "display_name": "Coconut (Python 3)",
   "language": "coconut",
   "name": "coconut3"
  },
  "language_info": {
   "codemirror_mode": {
    "name": "python",
    "version": 3
   },
   "file_extension": ".coco",
   "mimetype": "text/x-python3",
   "name": "coconut",
   "pygments_lexer": "coconut",
   "version": "1.4.3"
  }
 },
 "nbformat": 4,
 "nbformat_minor": 4
}
