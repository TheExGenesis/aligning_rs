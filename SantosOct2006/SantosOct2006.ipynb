{
 "cells": [
  {
   "cell_type": "code",
   "execution_count": 2,
   "metadata": {},
   "outputs": [],
   "source": [
    "import graph_tool as gt\n",
    "from graph_tool.draw import graph_draw\n",
    "import graph_tool.collection\n",
    "import graph_tool.generation as gen\n",
    "import axelrod as axl\n",
    "import pandas as pd\n",
    "import toolz as tz\n",
    "import numpy as np  \n",
    "import matplotlib.pyplot as plt\n",
    "from random import choice, sample\n",
    "from copy import deepcopy\n",
    "from collections import Counter\n",
    "%matplotlib inline\n"
   ]
  },
  {
   "cell_type": "code",
   "execution_count": 3,
   "metadata": {},
   "outputs": [],
   "source": [
    "# project params\n",
    "outputPath = './sf.png'\n"
   ]
  },
  {
   "cell_type": "code",
   "execution_count": 103,
   "metadata": {},
   "outputs": [],
   "source": [
    "# network params\n",
    "N = _N = 1000\n",
    "_m = 2\n",
    "_c = 0 \n",
    "_gamma = 1\n",
    "\n",
    "# game params\n",
    "_R=1\n",
    "_P=0\n",
    "_T=1.5 # T€[0,2] \n",
    "_S=-.5 # S€[-1,1]\n",
    "\n",
    "# evo params\n",
    "_episode_n = 100\n",
    "_te = 1\n",
    "_ta = 0.5\n",
    "_W = _te/_ta\n",
    "_beta = 0.05"
   ]
  },
  {
   "cell_type": "code",
   "execution_count": 502,
   "metadata": {},
   "outputs": [],
   "source": [
    "'''Init''' \n",
    "C = 'C'\n",
    "D = 'D'\n",
    "def initStrats(N) = [choice([C,D]) for i in range(N)]\n",
    "def initPayoffs(N) = [0 for i in range(N)]\n",
    "\n",
    "'''Graph'''\n",
    "def initGraph(N=_N, m=_m, c=_c, gamma=_gamma) = gen.price_network(N=N, m=m, c=c, gamma=gamma, directed=False)\n",
    "def getNeighborIds(graph, id) = graph.vertex(id).out_neighbors() |> map$(int) |> list\n",
    "def sampleNeighbor(graph, id) = choice(getNeighborIds(graph, id))\n",
    "def sampleNeighborUnique(graph, id1, id2) = set(getNeighborIds(graph, id1)) - set(getNeighborIds(graph, id2)) - set([id2]) |> list |> choice\n",
    "def isLonely(graph, x) = len(graph.get_all_edges(x)) == 1 #checks if node has only 1 edge\n",
    "def rewireEdge(graph, x, y, z):\n",
    "    _graph = graph\n",
    "    _graph.remove_edge(_graph.edge(x,y))\n",
    "#     print(f'adding {x},{z}')\n",
    "    _graph.add_edge(x, z)\n",
    "    return _graph\n",
    "# neighbors of id1 eligible for rewiring id2 to \n",
    "def eligibleNewFriends(graph, id1, id2) = set(getNeighborIds(graph, id1)) - set(getNeighborIds(graph, id2)) - set([id2]) |> list\n",
    "'''Games'''\n",
    "def makeDilemma(R=_R, P=_P, T=_T, S=_S) = {C:{C:[R,R], D:[S,T]}, D:{C:[T,S], D:[P,P]}} # T€[0,2] S€[-1,1]\n",
    "dilemma = makeDilemma()\n",
    "# playDilemma :: [strat] -> id -> id -> float\n",
    "def playDilemma(dilemma, strats, id1, id2) = dilemma[strats[id1]][strats[id2]]\n",
    "# cumulativePayoffs :: graph -> [strat] # 1 round of all connections playing one another\n",
    "def cumulativePayoffs(N, dilemma, graph, strats):\n",
    "    payoffs = initPayoffs(N)\n",
    "    idPlayDilemma = playDilemma$(dilemma, strats) \n",
    "    for [x,y] in graph.iter_edges():\n",
    "        px,py = idPlayDilemma(x,y)\n",
    "        payoffs[x] += px\n",
    "        payoffs[y] += py\n",
    "    return payoffs\n"
   ]
  },
  {
   "cell_type": "code",
   "execution_count": 501,
   "metadata": {},
   "outputs": [],
   "source": [
    "'''Structural Update'''\n",
    "def attemptRewire(graph, x, y):\n",
    "    if isLonely(graph, x) or isLonely(graph, y): \n",
    "#         print(f'{x},{y} is lonely')\n",
    "        return graph #enforcing graph connectedness\n",
    "    _graph = graph\n",
    "    eligible = eligibleNewFriends(_graph, y, x)\n",
    "    if not eligible:\n",
    "#         print(f'{x},{y} no one to switch to')\n",
    "        return graph #enforcing graph connectedness\n",
    "    return rewireEdge(graph, x, y, choice(eligible))\n",
    "def updateTies(graph, strats, payoffs, x):\n",
    "    y = sampleNeighbor(graph, x)\n",
    "#     print(f'updating {x}({strats[x]}),{y}({strats[y]})')\n",
    "    args = [[x,y], [y,x]]\n",
    "    p = fermi(_beta, payoffs[x] - payoffs[y])        \n",
    "    if (strats[x] == C and strats[y] == D):\n",
    "        return attemptRewire(graph, x, y)\n",
    "    elif (strats[x] == D and strats[y] == D):\n",
    "        return  np.random.choice([0,1], p=[p, 1-p]) |> args[] |*> attemptRewire$(graph)\n",
    "    return graph\n",
    "    \n",
    "'''Strategy Evolution'''\n",
    "def fermi(beta, fitness_diff) = np.clip(1. / (1. + np.exp(beta * fitness_diff, dtype=np.float64)), 0., 1.)\n",
    "def calcK(graph, x, y) = \n",
    "    def deg(z) = graph.vertex(z).out_degree()\n",
    "    max(deg(x), deg(y))\n",
    "def calcD(T=_T, S=_S) = max(T, 1) - min(S, 0)\n",
    "def transProb(calcK, P, x, y) = (P[y] - P[x]) / (calcK(x, y) * calcD())\n",
    "# updateStrat :: graph -> [strat] -> [float] -> id -> strat\n",
    "def updateStrat(graph, strats, payoffs, x) = \n",
    "    _calcK = calcK$(graph)\n",
    "    y = sampleNeighbor(graph, x)\n",
    "#   p = transProb(_calcK, payoffs, x, y)\n",
    "    p = fermi(_beta, payoffs[x] - payoffs[y])     \n",
    "    strats[x] if payoffs[x] > payoffs[y] else np.random.choice([strats[y], strats[x]], p=[p, 1-p])\n",
    "# updateStrat :: graph -> [strat] -> [float] -> [strat]\n",
    "def updateStrats(N, graph, strats, payoffs):\n",
    "    _strats = deepcopy(strats)\n",
    "    for x in range(N):\n",
    "        _strats[x] = updateStrat(graph, _strats, payoffs, x)\n",
    "    return _strats\n",
    "# chooses between structural and strat updates\n",
    "def evoUpdate(N, graph, strats, payoffs): \n",
    "    _strats = deepcopy(strats)\n",
    "    _graph = graph\n",
    "    p = 1/(1+_W)\n",
    "    for x in range(N):\n",
    "        doStratUpdate = np.random.choice([True, False], p=[p, 1-p])\n",
    "        if doStratUpdate:\n",
    "            _strats[x] = updateStrat(graph, _strats, payoffs, x)\n",
    "        else:\n",
    "            _graph = updateTies(graph, _strats, payoffs, x)\n",
    "    return _graph, _strats"
   ]
  },
  {
   "cell_type": "code",
   "execution_count": 503,
   "metadata": {},
   "outputs": [],
   "source": [
    "# runEvolution :: int -> graph -> [strat] -> [float] -> [[strat]]\n",
    "def runEvolution(N, episode_n, graph, strats, payoffs):\n",
    "    episodes = [strats]\n",
    "    totalPayoffs = initPayoffs(N)\n",
    "    _strats = []\n",
    "    for i in range(episode_n):\n",
    "        payoffs = cumulativePayoffs(N, dilemma, graph, strats)\n",
    "        _graph, _strats = evoUpdate(N, graph, strats, payoffs)\n",
    "        episodes.append(deepcopy(_strats))\n",
    "        totalPayoffs = np.add(totalPayoffs, payoffs)\n",
    "        strats = _strats\n",
    "        graph = _graph\n",
    "    return graph, totalPayoffs, episodes\n",
    "\n",
    "def runExperiment(N=_N, episode_n=_episode_n):\n",
    "    strats = initStrats(N)\n",
    "    totalPayoffs = initPayoffs(N)\n",
    "    graph = initGraph(N=N)\n",
    "    dilemma = makeDilemma(R=_R, P=_P, T=_T, S=_S)\n",
    "    _graph, totalPayoffs, episodes = runEvolution(N, episode_n, dilemma, graph, strats, totalPayoffs)\n",
    "    return (_graph, totalPayoffs, episodes)"
   ]
  },
  {
   "cell_type": "code",
   "execution_count": 6,
   "metadata": {},
   "outputs": [],
   "source": [
    "# Plots\n",
    "def drawGraph(graph) = graph_draw(graph, bg_color=\"white\") \n",
    "def plotHist(_list, bins) = pd.Series(_list).hist(bins = bins)\n",
    "def plotStratEvo(episodes) = pd.DataFrame([dict(Counter(ep)) for ep in episodes]).plot.line()"
   ]
  },
  {
   "cell_type": "code",
   "execution_count": 17,
   "metadata": {},
   "outputs": [],
   "source": [
    "totalPayoffs, episodes = runExperiment()"
   ]
  },
  {
   "cell_type": "code",
   "execution_count": 498,
   "metadata": {},
   "outputs": [],
   "source": [
    "graph, totalPayoffs, episodes = runExperiment(500,100)"
   ]
  },
  {
   "cell_type": "code",
   "execution_count": 499,
   "metadata": {},
   "outputs": [
    {
     "data": {
      "text/plain": [
       "<matplotlib.axes._subplots.AxesSubplot at 0x7fda1b912f70>"
      ]
     },
     "execution_count": 499,
     "metadata": {},
     "output_type": "execute_result"
    },
    {
     "data": {
      "image/png": "[encoded data removed]",
      "text/plain": [
       "<Figure size 432x288 with 1 Axes>"
      ]
     },
     "metadata": {
      "needs_background": "light"
     },
     "output_type": "display_data"
    }
   ],
   "source": [
    "plotStratEvo(episodes)"
   ]
  }
 ],
 "metadata": {
  "kernelspec": {
   "display_name": "Coconut (Python 3)",
   "language": "coconut",
   "name": "coconut3"
  },
  "language_info": {
   "codemirror_mode": {
    "name": "python",
    "version": 3
   },
   "file_extension": ".coco",
   "mimetype": "text/x-python3",
   "name": "coconut",
   "pygments_lexer": "coconut",
   "version": "1.4.3"
  }
 },
 "nbformat": 4,
 "nbformat_minor": 4
}
