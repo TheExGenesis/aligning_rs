{
 "cells": [
  {
   "cell_type": "markdown",
   "metadata": {},
   "source": [
    "# Quick start using graph-tool\n",
    "\n",
    "*exported as notebook from [here](https://graph-tool.skewed.de/static/doc/quickstart.html) by [@eliaswalyba](https://twitter.com/eliaswalyba)*"
   ]
  },
  {
   "cell_type": "markdown",
   "metadata": {},
   "source": [
    "The graph_tool module provides a Graph class and several algorithms that operate on it. The internals of this class, and of most algorithms, are written in C++ for performance, using the Boost Graph Library."
   ]
  },
  {
   "cell_type": "markdown",
   "metadata": {},
   "source": [
    "The module must be of course imported before it can be used. The package is subdivided into several sub-modules. To import everything from all of them, one can do:"
   ]
  },
  {
   "cell_type": "code",
   "execution_count": 1,
   "metadata": {},
   "outputs": [],
   "source": [
    "from graph_tool.all import *"
   ]
  },
  {
   "cell_type": "markdown",
   "metadata": {},
   "source": [
    "In the following, it will always be assumed that the previous line was run."
   ]
  },
  {
   "cell_type": "markdown",
   "metadata": {},
   "source": [
    "## Creating and manipulating graphs"
   ]
  },
  {
   "cell_type": "markdown",
   "metadata": {},
   "source": [
    "An empty graph can be created by instantiating a **Graph** class:"
   ]
  },
  {
   "cell_type": "code",
   "execution_count": 2,
   "metadata": {},
   "outputs": [],
   "source": [
    "g = Graph()"
   ]
  },
  {
   "cell_type": "markdown",
   "metadata": {},
   "source": [
    "By default, newly created graphs are always directed. To construct undirected graphs, one must pass a value to the directed parameter:"
   ]
  },
  {
   "cell_type": "code",
   "execution_count": 3,
   "metadata": {},
   "outputs": [],
   "source": [
    "ug = Graph(directed=False)"
   ]
  },
  {
   "cell_type": "markdown",
   "metadata": {},
   "source": [
    "A graph can always be switched on-the-fly from directed to undirected (and vice versa), with the set_directed() method. The “directedness” of the graph can be queried with the is_directed() method,"
   ]
  },
  {
   "cell_type": "code",
   "execution_count": 4,
   "metadata": {},
   "outputs": [
    {
     "name": "stdout",
     "output_type": "stream",
     "text": [
      "True\n"
     ]
    }
   ],
   "source": [
    "ug = Graph()\n",
    "ug.set_directed(False)\n",
    "print(ug.is_directed() == False)"
   ]
  },
  {
   "cell_type": "markdown",
   "metadata": {},
   "source": [
    "A graph can also be created by providing another graph, in which case the entire graph (and its internal property maps, see Property maps) is copied:"
   ]
  },
  {
   "cell_type": "code",
   "execution_count": 5,
   "metadata": {},
   "outputs": [],
   "source": [
    "g1 = Graph()\n",
    "g2 = Graph(g1)"
   ]
  },
  {
   "cell_type": "markdown",
   "metadata": {},
   "source": [
    "Above, g2 is a “deep” copy of g1, i.e. any modification of g2 will not affect g1.\n",
    "\n",
    "Once a graph is created, it can be populated with vertices and edges. A vertex can be added with the add_vertex() method, which returns an instance of a Vertex class, also called a vertex descriptor. For instance, the following code creates two vertices, and returns vertex descriptors stored in the variables v1 and v2."
   ]
  },
  {
   "cell_type": "code",
   "execution_count": 6,
   "metadata": {},
   "outputs": [],
   "source": [
    "v1 = g.add_vertex()\n",
    "v2 = g.add_vertex()"
   ]
  },
  {
   "cell_type": "markdown",
   "metadata": {},
   "source": [
    "Edges can be added in an analogous manner, by calling the add_edge() method, which returns an edge descriptor (an instance of the Edge class):"
   ]
  },
  {
   "cell_type": "code",
   "execution_count": 7,
   "metadata": {},
   "outputs": [],
   "source": [
    "e = g.add_edge(v1, v2)"
   ]
  },
  {
   "cell_type": "markdown",
   "metadata": {},
   "source": [
    "The above code creates a directed edge from v1 to v2. We can visualize the graph we created so far with the graph_draw() function."
   ]
  },
  {
   "cell_type": "code",
   "execution_count": 9,
   "metadata": {},
   "outputs": [
    {
     "data": {
      "text/plain": [
       "<VertexPropertyMap object with value type 'vector<double>', for Graph 0x7f5012038eb0, at 0x7f5010cf05e0>"
      ]
     },
     "execution_count": 9,
     "metadata": {},
     "output_type": "execute_result"
    }
   ],
   "source": [
    "graph_draw(g, vertex_text=g.vertex_index, output=\"./graph.png\")"
   ]
  },
  {
   "cell_type": "markdown",
   "metadata": {},
   "source": [
    "<img src=\"assets/graph.png\" width=250 height=250/>\n",
    "<p style=\"text-align: center;\">A simple directed graph with two vertices and one edge, created by the commands above.</p>"
   ]
  },
  {
   "cell_type": "markdown",
   "metadata": {},
   "source": [
    "With vertex and edge descriptors, one can examine and manipulate the graph in an arbitrary manner. For instance, in order to obtain the out-degree of a vertex, we can simply call the out_degree() method:"
   ]
  },
  {
   "cell_type": "code",
   "execution_count": null,
   "metadata": {},
   "outputs": [],
   "source": [
    "print(v1.out_degree())"
   ]
  },
  {
   "cell_type": "markdown",
   "metadata": {},
   "source": [
    "Analogously, we could have used the in_degree() method to query the in-degree."
   ]
  },
  {
   "cell_type": "markdown",
   "metadata": {},
   "source": [
    "**Note**: For undirected graphs, the “out-degree” is synonym for degree, and in this case the in-degree of a vertex is always zero."
   ]
  },
  {
   "cell_type": "markdown",
   "metadata": {},
   "source": [
    "Edge descriptors have two useful methods, source() and target(), which return the source and target vertex of an edge, respectively."
   ]
  },
  {
   "cell_type": "code",
   "execution_count": null,
   "metadata": {},
   "outputs": [],
   "source": [
    "print(e.source(), e.target())"
   ]
  },
  {
   "cell_type": "markdown",
   "metadata": {},
   "source": [
    "The add_vertex() method also accepts an optional parameter which specifies the number of vertices to create. If this value is greater than 1, it returns an iterator on the added vertex descriptors:"
   ]
  },
  {
   "cell_type": "code",
   "execution_count": null,
   "metadata": {},
   "outputs": [],
   "source": [
    "vlist = g.add_vertex(10)\n",
    "print(len(list(vlist)))"
   ]
  },
  {
   "cell_type": "markdown",
   "metadata": {},
   "source": [
    "Each vertex in a graph has an unique index, which is always between 0 and N−1, where N is the number of vertices. This index can be obtained by using the vertex_index attribute of the graph (which is a property map, see Property maps), or by converting the vertex descriptor to an int."
   ]
  },
  {
   "cell_type": "code",
   "execution_count": null,
   "metadata": {},
   "outputs": [],
   "source": [
    "v = g.add_vertex()\n",
    "print(g.vertex_index[v])\n",
    "print(int(v))"
   ]
  },
  {
   "cell_type": "markdown",
   "metadata": {},
   "source": [
    "Edges and vertices can also be removed at any time with the remove_vertex() and remove_edge() methods"
   ]
  },
  {
   "cell_type": "code",
   "execution_count": null,
   "metadata": {},
   "outputs": [],
   "source": [
    "g.remove_edge(e)                               # e no longer exists\n",
    "g.remove_vertex(v2)                # the second vertex is also gone"
   ]
  },
  {
   "cell_type": "markdown",
   "metadata": {},
   "source": [
    "**Note**: Removing a vertex is typically an O(N) operation. The vertices are internally stored in a STL vector, so removing an element somewhere in the middle of the list requires the shifting of the rest of the list. Thus, fast O(1) removals are only possible either if one can guarantee that only vertices in the end of the list are removed (the ones last added to the graph), or if the relative vertex ordering is invalidated. The latter behavior can be achieved by passing the option fast == True, to remove_vertex(), which causes the vertex being deleted to be ‘swapped’ with the last vertex (i.e. with the largest index), which will in turn inherit the index of the vertex being deleted."
   ]
  },
  {
   "cell_type": "markdown",
   "metadata": {},
   "source": [
    "**Warning**: Because of the above, removing a vertex with an index smaller than N−1 will invalidate either the last (fast = True) or all (fast = False) descriptors pointing to vertices with higher index.\n",
    "\n",
    "As a consequence, if more than one vertex is to be removed at a given time, they should always be removed in decreasing index order:\n",
    "\n",
    "```python\n",
    "# 'del_list' is a list of vertex descriptors\n",
    "for v in reversed(sorted(del_list)):\n",
    "    g.remove_vertex(v)\n",
    "```\n",
    "\n",
    "Alternatively (and preferably), a list (or any iterable) may be passed directly as the vertex parameter of the remove_vertex() function, and the above is performed internally (in C++).\n",
    "\n",
    "Note that property map values (see Property maps) are unaffected by the index changes due to vertex removal, as they are modified accordingly by the library."
   ]
  },
  {
   "cell_type": "markdown",
   "metadata": {},
   "source": [
    "**Note**: Removing an edge is an O(ks+kt) operation, where ks is the out-degree of the source vertex, and kt is the in-degree of the target vertex. This can be made faster by setting set_fast_edge_removal() to True, in which case it becomes O(1), at the expense of additional data of size O(E).\n",
    "No edge descriptors are ever invalidated after edge removal, with the exception of the edge being removed."
   ]
  },
  {
   "cell_type": "markdown",
   "metadata": {},
   "source": [
    "Since vertices are uniquely identifiable by their indexes, there is no need to keep the vertex descriptor lying around to access them at a later point. If we know its index, we can obtain the descriptor of a vertex with a given index using the vertex() method,"
   ]
  },
  {
   "cell_type": "code",
   "execution_count": null,
   "metadata": {},
   "outputs": [],
   "source": [
    "v = g.vertex(8)"
   ]
  },
  {
   "cell_type": "markdown",
   "metadata": {},
   "source": [
    "which takes an index, and returns a vertex descriptor. Edges cannot be directly obtained by its index, but if the source and target vertices of a given edge are known, it can be retrieved with the edge() method"
   ]
  },
  {
   "cell_type": "code",
   "execution_count": null,
   "metadata": {},
   "outputs": [],
   "source": [
    "g.add_edge(g.vertex(2), g.vertex(3))\n",
    "e = g.edge(2, 3)"
   ]
  },
  {
   "cell_type": "markdown",
   "metadata": {},
   "source": [
    "Another way to obtain edge or vertex descriptors is to iterate through them, as described in section Iterating over vertices and edges. This is in fact the most useful way of obtaining vertex and edge descriptors.\n",
    "\n",
    "Like vertices, edges also have unique indexes, which are given by the edge_index property:"
   ]
  },
  {
   "cell_type": "code",
   "execution_count": null,
   "metadata": {},
   "outputs": [],
   "source": [
    "e = g.add_edge(g.vertex(0), g.vertex(1))\n",
    "print(g.edge_index[e])"
   ]
  },
  {
   "cell_type": "markdown",
   "metadata": {},
   "source": [
    "Differently from vertices, edge indexes do not necessarily conform to any specific range. If no edges are ever removed, the indexes will be in the range [0,E−1], where E is the number of edges, and edges added earlier have lower indexes. However if an edge is removed, its index will be “vacant”, and the remaining indexes will be left unmodified, and thus will not all lie in the range [0,E−1]. If a new edge is added, it will reuse old indexes, in an increasing order."
   ]
  },
  {
   "cell_type": "markdown",
   "metadata": {},
   "source": [
    "### Iterating over vertices and edges"
   ]
  },
  {
   "cell_type": "markdown",
   "metadata": {},
   "source": [
    "Algorithms must often iterate through vertices, edges, out-edges of a vertex, etc. The Graph and Vertex classes provide different types of iterators for doing so. The iterators always point to edge or vertex descriptors."
   ]
  },
  {
   "cell_type": "markdown",
   "metadata": {},
   "source": [
    "#### Iterating over all vertices or edges"
   ]
  },
  {
   "cell_type": "markdown",
   "metadata": {},
   "source": [
    "In order to iterate through all the vertices or edges of a graph, the vertices() and edges() methods should be used:"
   ]
  },
  {
   "cell_type": "code",
   "execution_count": null,
   "metadata": {},
   "outputs": [],
   "source": [
    "for v in g.vertices():\n",
    "    print(v)\n",
    "for e in g.edges():\n",
    "    print(e)"
   ]
  },
  {
   "cell_type": "markdown",
   "metadata": {},
   "source": [
    "The code above will print the vertices and edges of the graph in the order they are found."
   ]
  },
  {
   "cell_type": "markdown",
   "metadata": {},
   "source": [
    "#### Iterating over the neighborhood of a vertex"
   ]
  },
  {
   "cell_type": "markdown",
   "metadata": {},
   "source": [
    "The out- and in-edges of a vertex, as well as the out- and in-neighbors can be iterated through with the out_edges(), in_edges(), out_neighbors() and in_neighbors() methods, respectively."
   ]
  },
  {
   "cell_type": "code",
   "execution_count": null,
   "metadata": {},
   "outputs": [],
   "source": [
    "for v in g.vertices():\n",
    "   for e in v.out_edges():\n",
    "       print(e)\n",
    "   for w in v.out_neighbors():\n",
    "       print(w)\n",
    "\n",
    "   # the edge and neighbors order always match\n",
    "   for e, w in zip(v.out_edges(), v.out_neighbors()):\n",
    "       assert e.target() == w"
   ]
  },
  {
   "cell_type": "markdown",
   "metadata": {},
   "source": [
    "The code above will print the out-edges and out-neighbors of all vertices in the graph."
   ]
  },
  {
   "cell_type": "markdown",
   "metadata": {},
   "source": [
    "**Warning**: You should never remove vertex or edge descriptors when iterating over them, since this invalidates the iterators. If you plan to remove vertices or edges during iteration, you must first store them somewhere (such as in a list) and remove them only after no iterator is being used. Removal during iteration will cause bad things to happen."
   ]
  },
  {
   "cell_type": "markdown",
   "metadata": {},
   "source": [
    "#### Fast iteration over vertices and edges"
   ]
  },
  {
   "cell_type": "markdown",
   "metadata": {},
   "source": [
    "While convenient, looping over the graph as described in the previous section is not the most efficient approach. This is because the loops are performed in pure Python, and hence it undermines the main feature of the library, which is the offloading of loops from Python to C++. Following the numpy philosophy, graph_tool also provides an array-based interface that avoids loops in Python. This is done with the get_vertices(), get_edges(), get_out_edges(), get_in_edges(), get_all_edges(), get_out_neighbors(), get_in_neighbors(), get_all_neighbors(), get_out_degrees(), get_in_degrees() and get_total_degrees() methods, which return numpy.ndarray instances instead of iterators.\n",
    "\n",
    "For example, using this interface we can get the out-degree of each node via:"
   ]
  },
  {
   "cell_type": "code",
   "execution_count": null,
   "metadata": {},
   "outputs": [],
   "source": [
    "print(g.get_out_degrees(g.get_vertices()))"
   ]
  },
  {
   "cell_type": "markdown",
   "metadata": {},
   "source": [
    "or the sum of the product of the in and out-degrees of the endpoints of each edge with:"
   ]
  },
  {
   "cell_type": "code",
   "execution_count": null,
   "metadata": {},
   "outputs": [],
   "source": [
    "edges = g.get_edges()\n",
    "in_degs = g.get_in_degrees(g.get_vertices())\n",
    "out_degs = g.get_out_degrees(g.get_vertices())\n",
    "print((out_degs[edges[:,0]] * in_degs[edges[:,1]]).sum())"
   ]
  },
  {
   "cell_type": "markdown",
   "metadata": {},
   "source": [
    "## Property maps"
   ]
  },
  {
   "cell_type": "markdown",
   "metadata": {},
   "source": [
    "Property maps are a way of associating additional information to the vertices, edges or to the graph itself. There are thus three types of property maps: vertex, edge and graph. They are handled by the classes VertexPropertyMap, EdgePropertyMap, and GraphPropertyMap. Each created property map has an associated value type, which must be chosen from the predefined set:"
   ]
  },
  {
   "cell_type": "markdown",
   "metadata": {},
   "source": [
    "<table class=\"docutils align-default\">\n",
    "<colgroup>\n",
    "<col style=\"width: 38%\">\n",
    "<col style=\"width: 62%\">\n",
    "</colgroup>\n",
    "<thead>\n",
    "<tr class=\"row-odd\"><th class=\"head\"><p>Type name</p></th>\n",
    "<th class=\"head\"><p>Alias</p></th>\n",
    "</tr>\n",
    "</thead>\n",
    "<tbody>\n",
    "<tr class=\"row-even\"><td><p><code class=\"docutils literal notranslate\"><span class=\"pre\">bool</span></code></p></td>\n",
    "<td><p><code class=\"docutils literal notranslate\"><span class=\"pre\">uint8_t</span></code></p></td>\n",
    "</tr>\n",
    "<tr class=\"row-odd\"><td><p><code class=\"docutils literal notranslate\"><span class=\"pre\">int16_t</span></code></p></td>\n",
    "<td><p><code class=\"docutils literal notranslate\"><span class=\"pre\">short</span></code></p></td>\n",
    "</tr>\n",
    "<tr class=\"row-even\"><td><p><code class=\"docutils literal notranslate\"><span class=\"pre\">int32_t</span></code></p></td>\n",
    "<td><p><code class=\"docutils literal notranslate\"><span class=\"pre\">int</span></code></p></td>\n",
    "</tr>\n",
    "<tr class=\"row-odd\"><td><p><code class=\"docutils literal notranslate\"><span class=\"pre\">int64_t</span></code></p></td>\n",
    "<td><p><code class=\"docutils literal notranslate\"><span class=\"pre\">long</span></code>, <code class=\"docutils literal notranslate\"><span class=\"pre\">long</span> <span class=\"pre\">long</span></code></p></td>\n",
    "</tr>\n",
    "<tr class=\"row-even\"><td><p><code class=\"docutils literal notranslate\"><span class=\"pre\">double</span></code></p></td>\n",
    "<td><p><code class=\"docutils literal notranslate\"><span class=\"pre\">float</span></code></p></td>\n",
    "</tr>\n",
    "<tr class=\"row-odd\"><td><p><code class=\"docutils literal notranslate\"><span class=\"pre\">long</span> <span class=\"pre\">double</span></code></p></td>\n",
    "<td></td>\n",
    "</tr>\n",
    "<tr class=\"row-even\"><td><p><code class=\"docutils literal notranslate\"><span class=\"pre\">string</span></code></p></td>\n",
    "<td></td>\n",
    "</tr>\n",
    "<tr class=\"row-odd\"><td><p><code class=\"docutils literal notranslate\"><span class=\"pre\">vector&lt;bool&gt;</span></code></p></td>\n",
    "<td><p><code class=\"docutils literal notranslate\"><span class=\"pre\">vector&lt;uint8_t&gt;</span></code></p></td>\n",
    "</tr>\n",
    "<tr class=\"row-even\"><td><p><code class=\"docutils literal notranslate\"><span class=\"pre\">vector&lt;int16_t&gt;</span></code></p></td>\n",
    "<td><p><code class=\"docutils literal notranslate\"><span class=\"pre\">vector&lt;short&gt;</span></code></p></td>\n",
    "</tr>\n",
    "<tr class=\"row-odd\"><td><p><code class=\"docutils literal notranslate\"><span class=\"pre\">vector&lt;int32_t&gt;</span></code></p></td>\n",
    "<td><p><code class=\"docutils literal notranslate\"><span class=\"pre\">vector&lt;int&gt;</span></code></p></td>\n",
    "</tr>\n",
    "<tr class=\"row-even\"><td><p><code class=\"docutils literal notranslate\"><span class=\"pre\">vector&lt;int64_t&gt;</span></code></p></td>\n",
    "<td><p><code class=\"docutils literal notranslate\"><span class=\"pre\">vector&lt;long&gt;</span></code>, <code class=\"docutils literal notranslate\"><span class=\"pre\">vector&lt;long</span> <span class=\"pre\">long&gt;</span></code></p></td>\n",
    "</tr>\n",
    "<tr class=\"row-odd\"><td><p><code class=\"docutils literal notranslate\"><span class=\"pre\">vector&lt;double&gt;</span></code></p></td>\n",
    "<td><p><code class=\"docutils literal notranslate\"><span class=\"pre\">vector&lt;float&gt;</span></code></p></td>\n",
    "</tr>\n",
    "<tr class=\"row-even\"><td><p><code class=\"docutils literal notranslate\"><span class=\"pre\">vector&lt;long</span> <span class=\"pre\">double&gt;</span></code></p></td>\n",
    "<td></td>\n",
    "</tr>\n",
    "<tr class=\"row-odd\"><td><p><code class=\"docutils literal notranslate\"><span class=\"pre\">vector&lt;string&gt;</span></code></p></td>\n",
    "<td></td>\n",
    "</tr>\n",
    "<tr class=\"row-even\"><td><p><code class=\"docutils literal notranslate\"><span class=\"pre\">python::object</span></code></p></td>\n",
    "<td><p><code class=\"docutils literal notranslate\"><span class=\"pre\">object</span></code></p></td>\n",
    "</tr>\n",
    "</tbody>\n",
    "</table>"
   ]
  },
  {
   "cell_type": "markdown",
   "metadata": {},
   "source": [
    "New property maps can be created for a given graph by calling one of the methods new_vertex_property() (alias new_vp()), new_edge_property() (alias new_ep()), or new_graph_property() (alias new_gp()), for each map type. The values are then accessed by vertex or edge descriptors, or the graph itself, as such:"
   ]
  },
  {
   "cell_type": "code",
   "execution_count": null,
   "metadata": {},
   "outputs": [],
   "source": [
    "from numpy.random import randint\n",
    "\n",
    "g = Graph()\n",
    "g.add_vertex(100)\n",
    "\n",
    "# insert some random links\n",
    "for s,t in zip(randint(0, 100, 100), randint(0, 100, 100)):\n",
    "    g.add_edge(g.vertex(s), g.vertex(t))\n",
    "\n",
    "vprop_double = g.new_vertex_property(\"double\")            # Double-precision floating point\n",
    "v = g.vertex(10)\n",
    "vprop_double[v] = 3.1416\n",
    "\n",
    "vprop_vint = g.new_vertex_property(\"vector<int>\")         # Vector of ints\n",
    "v = g.vertex(40)\n",
    "vprop_vint[v] = [1, 3, 42, 54]\n",
    "\n",
    "eprop_dict = g.new_edge_property(\"object\")                # Arbitrary Python object.\n",
    "e = g.edges().next()\n",
    "eprop_dict[e] = {\"foo\": \"bar\", \"gnu\": 42}                 # In this case, a dict.\n",
    "\n",
    "gprop_bool = g.new_graph_property(\"bool\")                 # Boolean\n",
    "gprop_bool[g] = True"
   ]
  },
  {
   "cell_type": "markdown",
   "metadata": {},
   "source": [
    "Property maps with scalar value types can also be accessed as a numpy.ndarray, with the get_array() method, or the a attribute, e.g.,"
   ]
  },
  {
   "cell_type": "code",
   "execution_count": null,
   "metadata": {},
   "outputs": [],
   "source": [
    "from numpy.random import random\n",
    "\n",
    "# this assigns random values to the vertex properties\n",
    "vprop_double.get_array()[:] = random(g.num_vertices())\n",
    "\n",
    "# or more conveniently (this is equivalent to the above)\n",
    "vprop_double.a = random(g.num_vertices())"
   ]
  },
  {
   "cell_type": "markdown",
   "metadata": {},
   "source": [
    "### Internal property maps"
   ]
  },
  {
   "cell_type": "markdown",
   "metadata": {},
   "source": [
    "Any created property map can be made “internal” to the corresponding graph. This means that it will be copied and saved to a file together with the graph. Properties are internalized by including them in the graph’s dictionary-like attributes vertex_properties, edge_properties or graph_properties (or their aliases, vp, ep or gp, respectively). When inserted in the graph, the property maps must have an unique name (between those of the same type):"
   ]
  },
  {
   "cell_type": "code",
   "execution_count": null,
   "metadata": {},
   "outputs": [],
   "source": [
    "eprop = g.new_edge_property(\"string\")\n",
    "g.edge_properties[\"some name\"] = eprop\n",
    "g.list_properties()"
   ]
  },
  {
   "cell_type": "markdown",
   "metadata": {},
   "source": [
    "Internal graph property maps behave slightly differently. Instead of returning the property map object, the value itself is returned from the dictionaries:"
   ]
  },
  {
   "cell_type": "code",
   "execution_count": null,
   "metadata": {},
   "outputs": [],
   "source": [
    "gprop = g.new_graph_property(\"int\")\n",
    "g.graph_properties[\"foo\"] = gprop   # this sets the actual property map\n",
    "g.graph_properties[\"foo\"] = 42      # this sets its value\n",
    "print(g.graph_properties[\"foo\"])\n",
    "del g.graph_properties[\"foo\"]       # the property map entry is deleted from the dictionary"
   ]
  },
  {
   "cell_type": "markdown",
   "metadata": {},
   "source": [
    "For convenience, the internal property maps can also be accessed via attributes:"
   ]
  },
  {
   "cell_type": "code",
   "execution_count": null,
   "metadata": {},
   "outputs": [],
   "source": [
    "vprop = g.new_vertex_property(\"double\")\n",
    "g.vp.foo = vprop                        # equivalent to g.vertex_properties[\"foo\"] = vprop\n",
    "v = g.vertex(0)\n",
    "g.vp.foo[v] = 3.14\n",
    "print(g.vp.foo[v])"
   ]
  },
  {
   "cell_type": "markdown",
   "metadata": {},
   "source": [
    "## Graph I/O"
   ]
  },
  {
   "cell_type": "markdown",
   "metadata": {},
   "source": [
    "Graphs can be saved and loaded in four formats: graphml, dot, gml and a custom binary format gt (see The gt file format)."
   ]
  },
  {
   "cell_type": "markdown",
   "metadata": {},
   "source": [
    "**Warning**: The binary format gt and the text-based graphml are the preferred formats, since they are by far the most complete. Both these formats are equally complete, but the gt format is faster and requires less storage.\n",
    "The dot and gml formats are fully supported, but since they contain no precise type information, all properties are read as strings (or also as double, in the case of gml), and must be converted by hand to the desired type. Therefore you should always use either gt or graphml, since they implement an exact bit-for-bit representation of all supported Property maps types, except when interfacing with other software, or existing data, which uses dot or gml."
   ]
  },
  {
   "cell_type": "markdown",
   "metadata": {},
   "source": [
    "A graph can be saved or loaded to a file with the save and load methods, which take either a file name or a file-like object. A graph can also be loaded from disc with the load_graph() function, as such:"
   ]
  },
  {
   "cell_type": "code",
   "execution_count": null,
   "metadata": {},
   "outputs": [],
   "source": [
    "g = Graph()\n",
    "#  ... fill the graph ...\n",
    "g.save(\"assets/my_graph.xml.gz\")\n",
    "g2 = load_graph(\"assets/my_graph.xml.gz\")\n",
    "# g and g2 should be copies of each other"
   ]
  },
  {
   "cell_type": "markdown",
   "metadata": {},
   "source": [
    "## An Example: Building a Price Network"
   ]
  },
  {
   "cell_type": "markdown",
   "metadata": {},
   "source": [
    "A Price network is the first known model of a “scale-free” graph, invented in 1976 by de Solla Price. It is defined dynamically, where at each time step a new vertex is added to the graph, and connected to an old vertex, with probability proportional to its in-degree. The following program implements this construction using graph-tool."
   ]
  },
  {
   "cell_type": "markdown",
   "metadata": {},
   "source": [
    "**Note**: Note that it would be much faster just to use the price_network() function, which is implemented in C++, as opposed to the script below which is in pure Python. The code below is merely a demonstration on how to use the library."
   ]
  },
  {
   "cell_type": "code",
   "execution_count": null,
   "metadata": {
    "scrolled": true
   },
   "outputs": [],
   "source": [
    "#! /usr/bin/env python\n",
    "\n",
    "# We will need some things from several places\n",
    "from __future__ import division, absolute_import, print_function\n",
    "import sys\n",
    "if sys.version_info < (3,):\n",
    "    range = xrange\n",
    "import os\n",
    "from pylab import *  # for plotting\n",
    "from numpy.random import *  # for random sampling\n",
    "seed(42)\n",
    "\n",
    "# We need to import the graph_tool module itself\n",
    "from graph_tool.all import *\n",
    "\n",
    "# let's construct a Price network (the one that existed before Barabasi). It is\n",
    "# a directed network, with preferential attachment. The algorithm below is\n",
    "# very naive, and a bit slow, but quite simple.\n",
    "\n",
    "# We start with an empty, directed graph\n",
    "g = Graph()\n",
    "\n",
    "# We want also to keep the age information for each vertex and edge. For that\n",
    "# let's create some property maps\n",
    "v_age = g.new_vertex_property(\"int\")\n",
    "e_age = g.new_edge_property(\"int\")\n",
    "\n",
    "# The final size of the network\n",
    "N = 100000\n",
    "\n",
    "# We have to start with one vertex\n",
    "v = g.add_vertex()\n",
    "v_age[v] = 0\n",
    "\n",
    "# we will keep a list of the vertices. The number of times a vertex is in this\n",
    "# list will give the probability of it being selected.\n",
    "vlist = [v]\n",
    "\n",
    "# let's now add the new edges and vertices\n",
    "for i in range(1, N):\n",
    "    # create our new vertex\n",
    "    v = g.add_vertex()\n",
    "    v_age[v] = i\n",
    "\n",
    "    # we need to sample a new vertex to be the target, based on its in-degree +\n",
    "    # 1. For that, we simply randomly sample it from vlist.\n",
    "    i = randint(0, len(vlist))\n",
    "    target = vlist[i]\n",
    "\n",
    "    # add edge\n",
    "    e = g.add_edge(v, target)\n",
    "    e_age[e] = i\n",
    "\n",
    "    # put v and target in the list\n",
    "    vlist.append(target)\n",
    "    vlist.append(v)\n",
    "\n",
    "# now we have a graph!\n",
    "\n",
    "# let's do a random walk on the graph and print the age of the vertices we find,\n",
    "# just for fun.\n",
    "\n",
    "v = g.vertex(randint(0, g.num_vertices()))\n",
    "while True:\n",
    "    print(\"vertex:\", int(v), \"in-degree:\", v.in_degree(), \"out-degree:\",\n",
    "          v.out_degree(), \"age:\", v_age[v])\n",
    "\n",
    "    if v.out_degree() == 0:\n",
    "        print(\"Nowhere else to go... We found the main hub!\")\n",
    "        break\n",
    "\n",
    "    n_list = []\n",
    "    for w in v.out_neighbors():\n",
    "        n_list.append(w)\n",
    "    v = n_list[randint(0, len(n_list))]\n",
    "\n",
    "# let's save our graph for posterity. We want to save the age properties as\n",
    "# well... To do this, they must become \"internal\" properties:\n",
    "\n",
    "g.vertex_properties[\"age\"] = v_age\n",
    "g.edge_properties[\"age\"] = e_age\n",
    "\n",
    "# now we can save it\n",
    "g.save(\"assets/price.xml.gz\")\n",
    "\n",
    "\n",
    "# Let's plot its in-degree distribution\n",
    "in_hist = vertex_hist(g, \"in\")\n",
    "\n",
    "y = in_hist[0]\n",
    "err = sqrt(in_hist[0])\n",
    "err[err >= y] = y[err >= y] - 1e-2\n",
    "\n",
    "figure(figsize=(6,4))\n",
    "errorbar(in_hist[1][:-1], in_hist[0], fmt=\"o\", yerr=err,\n",
    "        label=\"in\")\n",
    "gca().set_yscale(\"log\")\n",
    "gca().set_xscale(\"log\")\n",
    "gca().set_ylim(1e-1, 1e5)\n",
    "gca().set_xlim(0.8, 1e3)\n",
    "subplots_adjust(left=0.2, bottom=0.2)\n",
    "xlabel(\"$k_{in}$\")\n",
    "ylabel(\"$NP(k_{in})$\")\n",
    "tight_layout()\n",
    "savefig(\"assets/price-deg-dist.pdf\")\n",
    "savefig(\"assets/price-deg-dist.svg\")"
   ]
  },
  {
   "cell_type": "markdown",
   "metadata": {},
   "source": [
    "In-degree distribution of a price network with 105 nodes."
   ]
  },
  {
   "cell_type": "markdown",
   "metadata": {},
   "source": [
    "Above is the degree distribution, with 105 nodes (in order to the asymptotic behavior to be even clearer, the number of vertices needs to be increased to something like 106 or 107)."
   ]
  },
  {
   "cell_type": "markdown",
   "metadata": {},
   "source": [
    "We can draw the graph to see some other features of its topology. For that we use the graph_draw() function."
   ]
  },
  {
   "cell_type": "code",
   "execution_count": null,
   "metadata": {},
   "outputs": [],
   "source": [
    "g = load_graph(\"assets/price.xml.gz\")\n",
    "age = g.vertex_properties[\"age\"]\n",
    "\n",
    "pos = sfdp_layout(g)\n",
    "graph_draw(g, pos, output_size=(1000, 1000), vertex_color=[1,1,1,0],\n",
    "           vertex_fill_color=age, vertex_size=1, edge_pen_width=1.2,\n",
    "           vcmap=matplotlib.cm.gist_heat_r, output=\"assets/price.png\")"
   ]
  },
  {
   "cell_type": "markdown",
   "metadata": {},
   "source": [
    "<img src=\"assets/price.png\" width=750 height=750 />\n",
    "<p style=\"text-align: center;\">A Price network with 105 nodes. The vertex colors represent the age of the vertex, from older (red) to newer (black).</p>"
   ]
  },
  {
   "cell_type": "markdown",
   "metadata": {},
   "source": [
    "## Graph filtering"
   ]
  },
  {
   "cell_type": "markdown",
   "metadata": {},
   "source": [
    "One of the very nice features of graph-tool is the “on-the-fly” filtering of edges and/or vertices. Filtering means the temporary masking of vertices/edges, which are in fact not really removed, and can be easily recovered. Vertices or edges which are to be filtered should be marked with a PropertyMap with value type bool, and then set with set_vertex_filter() or set_edge_filter() methods. By default, vertex or edges with value “1” are kept in the graphs, and those with value “0” are filtered out. This behaviour can be modified with the inverted parameter of the respective functions. All manipulation functions and algorithms will work as if the marked edges or vertices were removed from the graph, with minimum overhead."
   ]
  },
  {
   "cell_type": "markdown",
   "metadata": {},
   "source": [
    "**Note**: It is important to emphasize that the filtering functionality does not add any overhead when the graph is not being filtered. In this case, the algorithms run just as fast as if the filtering functionality didn’t exist."
   ]
  },
  {
   "cell_type": "markdown",
   "metadata": {},
   "source": [
    "Here is an example which obtains the minimum spanning tree of a graph, using the function min_spanning_tree() and edge filtering."
   ]
  },
  {
   "cell_type": "code",
   "execution_count": null,
   "metadata": {},
   "outputs": [],
   "source": [
    "g, pos = triangulation(random((500, 2)) * 4, type=\"delaunay\")\n",
    "tree = min_spanning_tree(g)\n",
    "graph_draw(g, pos=pos, edge_color=tree, output=\"assets/min_tree.svg\")"
   ]
  },
  {
   "cell_type": "markdown",
   "metadata": {},
   "source": [
    "The tree property map has a bool type, with value “1” if the edge belongs to the tree, and “0” otherwise. Below is an image of the original graph, with the marked edges."
   ]
  },
  {
   "cell_type": "markdown",
   "metadata": {},
   "source": [
    "<img src=\"assets/min_tree.svg\" width=500 height=500 />"
   ]
  },
  {
   "cell_type": "markdown",
   "metadata": {},
   "source": [
    "We can now filter out the edges which don’t belong to the minimum spanning tree."
   ]
  },
  {
   "cell_type": "code",
   "execution_count": null,
   "metadata": {},
   "outputs": [],
   "source": [
    "g.set_edge_filter(tree)\n",
    "graph_draw(g, pos=pos, output=\"assets/min_tree_filtered.svg\")"
   ]
  },
  {
   "cell_type": "markdown",
   "metadata": {},
   "source": [
    "This is how the graph looks when filtered:"
   ]
  },
  {
   "cell_type": "markdown",
   "metadata": {},
   "source": [
    "<img src=\"assets/min_tree_filtered.svg\" height=500 width=500 />"
   ]
  },
  {
   "cell_type": "markdown",
   "metadata": {},
   "source": [
    "Everything should work transparently on the filtered graph, simply as if the masked edges were removed. For instance, the following code will calculate the betweenness() centrality of the edges and vertices, and draws them as colors and line thickness in the graph."
   ]
  },
  {
   "cell_type": "code",
   "execution_count": null,
   "metadata": {},
   "outputs": [],
   "source": [
    "bv, be = betweenness(g)\n",
    "be.a /= be.a.max() / 5\n",
    "graph_draw(g, pos=pos, vertex_fill_color=bv, edge_pen_width=be,\n",
    "           output=\"assets/filtered-bt.svg\")"
   ]
  },
  {
   "cell_type": "markdown",
   "metadata": {},
   "source": [
    "<img src=\"assets/filtered-bt.svg\" height=500 width=500 />"
   ]
  },
  {
   "cell_type": "markdown",
   "metadata": {},
   "source": [
    "The original graph can be recovered by setting the edge filter to None."
   ]
  },
  {
   "cell_type": "code",
   "execution_count": null,
   "metadata": {},
   "outputs": [],
   "source": [
    "g.set_edge_filter(None)\n",
    "bv, be = betweenness(g)\n",
    "be.a /= be.a.max() / 5\n",
    "graph_draw(g, pos=pos, vertex_fill_color=bv, edge_pen_width=be,\n",
    "           output=\"assets/nonfiltered-bt.svg\")"
   ]
  },
  {
   "cell_type": "markdown",
   "metadata": {},
   "source": [
    "<img src=\"assets/nonfiltered-bt.svg\" height=500 width=500 />"
   ]
  },
  {
   "cell_type": "markdown",
   "metadata": {},
   "source": [
    "Everything works in analogous fashion with vertex filtering.\n",
    "\n",
    "Additionally, the graph can also have its edges reversed with the set_reversed() method. This is also an O(1) operation, which does not really modify the graph.\n",
    "\n",
    "As mentioned previously, the directedness of the graph can also be changed “on-the-fly” with the set_directed() method."
   ]
  },
  {
   "cell_type": "markdown",
   "metadata": {},
   "source": [
    "### Graph views"
   ]
  },
  {
   "cell_type": "markdown",
   "metadata": {},
   "source": [
    "It is often desired to work with filtered and unfiltered graphs simultaneously, or to temporarily create a filtered version of graph for some specific task. For these purposes, graph-tool provides a GraphView class, which represents a filtered “view” of a graph, and behaves as an independent graph object, which shares the underlying data with the original graph. Graph views are constructed by instantiating a GraphView class, and passing a graph object which is supposed to be filtered, together with the desired filter parameters. For example, to create a directed view of the graph g constructed above, one should do:"
   ]
  },
  {
   "cell_type": "code",
   "execution_count": null,
   "metadata": {},
   "outputs": [],
   "source": [
    "ug = GraphView(g, directed=True)\n",
    "ug.is_directed()"
   ]
  },
  {
   "cell_type": "markdown",
   "metadata": {},
   "source": [
    "Graph views also provide a much more direct and convenient approach to vertex/edge filtering: To construct a filtered minimum spanning tree like in the example above, one must only pass the filter property as the “efilt” parameter:"
   ]
  },
  {
   "cell_type": "code",
   "execution_count": null,
   "metadata": {},
   "outputs": [],
   "source": [
    "tv = GraphView(g, efilt=tree)"
   ]
  },
  {
   "cell_type": "markdown",
   "metadata": {},
   "source": [
    "Note that this is an O(1) operation, since it is equivalent (in speed) to setting the filter in graph g directly, but in this case the object g remains unmodified.\n",
    "\n",
    "Like above, the result should be the isolated minimum spanning tree:"
   ]
  },
  {
   "cell_type": "code",
   "execution_count": null,
   "metadata": {},
   "outputs": [],
   "source": [
    "bv, be = betweenness(tv)\n",
    "be.a /= be.a.max() / 5\n",
    "graph_draw(tv, pos=pos, vertex_fill_color=bv, edge_pen_width=be, output=\"assets/mst-view.svg\")"
   ]
  },
  {
   "cell_type": "markdown",
   "metadata": {},
   "source": [
    "<img src=\"assets/mst-view.svg\" height=500 width=500/>\n",
    "<p style=\"text-align: center;\">A view of the Delaunay graph, isolating only the minimum spanning tree</p>"
   ]
  },
  {
   "cell_type": "markdown",
   "metadata": {},
   "source": [
    "**Note**: GraphView objects behave exactly like regular Graph objects. In fact, GraphView is a subclass of Graph. The only difference is that a GraphView object shares its internal data with its parent Graph class. Therefore, if the original Graph object is modified, this modification will be reflected immediately in the GraphView object, and vice versa."
   ]
  },
  {
   "cell_type": "markdown",
   "metadata": {},
   "source": [
    "For even more convenience, one can supply a function as filter parameter, which takes a vertex or an edge as single parameter, and returns True if the vertex/edge should be kept and False otherwise. For instance, if we want to keep only the most “central” edges, we can do:"
   ]
  },
  {
   "cell_type": "code",
   "execution_count": null,
   "metadata": {},
   "outputs": [],
   "source": [
    "bv, be = betweenness(g)\n",
    "u = GraphView(g, efilt=lambda e: be[e] > be.a.max() / 2)"
   ]
  },
  {
   "cell_type": "markdown",
   "metadata": {},
   "source": [
    "This creates a graph view u which contains only the edges of g which have a normalized betweenness centrality larger than half of the maximum value. Note that, differently from the case above, this is an O(E) operation, where E is the number of edges, since the supplied function must be called E times to construct a filter property map. Thus, supplying a constructed filter map is always faster, but supplying a function can be more convenient.\n",
    "\n",
    "The graph view constructed above can be visualized as"
   ]
  },
  {
   "cell_type": "code",
   "execution_count": null,
   "metadata": {},
   "outputs": [],
   "source": [
    "be.a /= be.a.max() / 5\n",
    "graph_draw(u, pos=pos, vertex_fill_color=bv, output=\"assets/central-edges-view.svg\")"
   ]
  },
  {
   "cell_type": "markdown",
   "metadata": {},
   "source": [
    "<img src=\"assets/central-edges-view.svg\" height=500 width=500 />"
   ]
  },
  {
   "cell_type": "markdown",
   "metadata": {},
   "source": [
    "#### Composing graph views"
   ]
  },
  {
   "cell_type": "markdown",
   "metadata": {},
   "source": [
    "Since graph views are regular graphs, one can just as easily create graph views of graph views. This provides a convenient way of composing filters. For instance, in order to isolate the minimum spanning tree of all vertices of the example above which have a degree larger than four, one can do:"
   ]
  },
  {
   "cell_type": "code",
   "execution_count": null,
   "metadata": {},
   "outputs": [],
   "source": [
    "u = GraphView(g, vfilt=lambda v: v.out_degree() > 4)\n",
    "tree = min_spanning_tree(u)\n",
    "u = GraphView(u, efilt=tree)"
   ]
  },
  {
   "cell_type": "markdown",
   "metadata": {},
   "source": [
    "The resulting graph view can be visualized as"
   ]
  },
  {
   "cell_type": "code",
   "execution_count": null,
   "metadata": {},
   "outputs": [],
   "source": [
    "graph_draw(u, pos=pos, output=\"assets/composed-filter.svg\")"
   ]
  },
  {
   "cell_type": "markdown",
   "metadata": {},
   "source": [
    "<img src=\"assets/composed-filter.svg\" height=500 width=500 />\n",
    "<p style=\"text-align: center;\">A composed view, obtained as the minimum spanning tree of all vertices in the graph which have a degree larger than four.</p>"
   ]
  }
 ],
 "metadata": {
  "kernelspec": {
   "display_name": "Python 3",
   "language": "python",
   "name": "python3"
  },
  "language_info": {
   "codemirror_mode": {
    "name": "ipython",
    "version": 3
   },
   "file_extension": ".py",
   "mimetype": "text/x-python",
   "name": "python",
   "nbconvert_exporter": "python",
   "pygments_lexer": "ipython3",
   "version": "3.8.5"
  }
 },
 "nbformat": 4,
 "nbformat_minor": 4
}
