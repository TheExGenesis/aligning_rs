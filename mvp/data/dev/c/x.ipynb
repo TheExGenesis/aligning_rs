{
 "metadata": {
  "language_info": {
   "codemirror_mode": {
    "name": "ipython",
    "version": 3
   },
   "file_extension": ".py",
   "mimetype": "text/x-python",
   "name": "python",
   "nbconvert_exporter": "python",
   "pygments_lexer": "ipython3",
   "version": 3
  },
  "orig_nbformat": 2,
  "kernelspec": {
   "name": "coconut3",
   "display_name": "Coconut (Python 3)"
  }
 },
 "nbformat": 4,
 "nbformat_minor": 2,
 "cells": [
  {
   "cell_type": "code",
   "execution_count": null,
   "metadata": {},
   "outputs": [],
   "source": [
    "100 episodes, \n",
    "BA params:(N = 1000, m = 1)\n",
    "Agent dilemma policies: ['Cooperator', 'Defector', 'Random']\n",
    "Agent params: none\n",
    "Game: PD (3,1,0,5)\n",
    "Mediator policies: no mediator, selfless mediator, naive selfish mediator"
   ]
  },
  {
   "source": [
    "# no mediator | selfless mediator | naive selfish mediator:\n",
    "\n",
    "\n",
    "- polShares\n",
    "\n",
    "![polShares](noMed/polShares.png)\n",
    "![polShares](selflessRecEval/polShares.png)\n",
    "![polShares](naiveSelfishRecEval/polShares.png)\n",
    "\n",
    "- coopRate\n",
    "\n",
    "![coopRate](noMed/coopRate.png)\n",
    "![coopRate](selflessRecEval/coopRate.png)\n",
    "![coopRate](naiveSelfishRecEval/coopRate.png)\n",
    "\n",
    "- medScore\n",
    "\n",
    "![medScore](noMed/medScore.png)\n",
    "![medScore](selflessRecEval/medScore.png)\n",
    "![medScore](naiveSelfishRecEval/medScore.png)\n",
    "\n",
    "\n",
    "- agentScore\n",
    "\n",
    "![agentScore](noMed/agentScore.png)\n",
    "![agentScore](selflessRecEval/agentScore.png)\n",
    "![agentScore](naiveSelfishRecEval/agentScore.png)\n",
    "\n",
    "\n",
    "\n"
   ],
   "cell_type": "markdown",
   "metadata": {}
  },
  {
   "source": [],
   "cell_type": "markdown",
   "metadata": {}
  },
  {
   "source": [],
   "cell_type": "markdown",
   "metadata": {}
  }
 ]
}