{
 "cells": [
  {
   "cell_type": "code",
   "execution_count": 210,
   "metadata": {},
   "outputs": [],
   "source": [
    "import graph_tool as gt\n",
    "from graph_tool.draw import graph_draw\n",
    "import graph_tool.collection\n",
    "import graph_tool.generation as gen\n",
    "import axelrod as axl\n",
    "import pandas as pd\n",
    "import toolz as tz\n",
    "import numpy as np  \n",
    "import matplotlib.pyplot as plt\n",
    "from random import choice, sample\n",
    "from copy import deepcopy\n",
    "%matplotlib inline\n"
   ]
  },
  {
   "cell_type": "code",
   "execution_count": null,
   "metadata": {},
   "outputs": [],
   "source": [
    "# project params\n",
    "outputPath = './sf.png'\n"
   ]
  },
  {
   "cell_type": "code",
   "execution_count": 96,
   "metadata": {},
   "outputs": [],
   "source": [
    "# network params\n",
    "_N = 1000\n",
    "_m = 2\n",
    "_c = 0 \n",
    "_gamma = 1\n",
    "\n",
    "# game params\n",
    "_R=1\n",
    "_P=0\n",
    "_T=1.5 # T€[0,2] \n",
    "_S=-.5 # S€[-1,1]"
   ]
  },
  {
   "cell_type": "code",
   "execution_count": 214,
   "metadata": {},
   "outputs": [],
   "source": [
    "# Init\n",
    "C = 'C'\n",
    "D = 'D'\n",
    "def initStrats(N) = [choice([C,D]) for i in range(N)]\n",
    "def initPayoffs(N) = [0 for i in range(N)]\n",
    "# Graph\n",
    "def initGraph(N=_N, m=_m, c=_c, gamma=_gamma) = gen.price_network(N=N, m=m, c=c, gamma=gamma, directed=False)\n",
    "def getNeighborIds(id) = graph.vertex(id).out_neighbors() |> map$(int) |> list\n",
    "def sampleNeighbor(id) = choice(getNeighborIds(id))\n",
    "# Games\n",
    "def makeDilemma(R=_R, P=_P, T=_T, S=_S) = {C:{C:[R,R], D:[S,T]}, D:{C:[T,S], D:[P,P]}} # T€[0,2] S€[-1,1]\n",
    "def playDilemma(strats, id1, id2) = dilemma[strats[id1]][strats[id2]]\n",
    "# Evolution\n",
    "def calcK(graph, x, y) = \n",
    "    def deg(z) = graph.vertex(z).out_degree()\n",
    "    max(deg(x), deg(y))\n",
    "def calcD() = max(_T, 1) - min(_S, 0)\n",
    "def transProb(calcK, P, x, y) = (P[y] - P[x]) / (calcK(x, y) * calcD())\n",
    "def updateStrat(graph, strats, payoffs, x) = \n",
    "    _calcK = calcK$(graph)\n",
    "    y = sampleNeighbor(x)\n",
    "    p = transProb(_calcK, payoffs, x, y)\n",
    "    strats[x] if payoffs[x] > payoffs[y] else np.random.choice([strats[y], strats[x]], p=[p, 1-p])\n",
    "\n",
    "def updateStrats(graph, strats, payoffs) = \n",
    "    _strats = deepcopy(strats)\n",
    "    for x in range(N):\n",
    "        _strats[x] = updateStrat(graph, _strats, payoffs, x)\n",
    "    _strats"
   ]
  },
  {
   "cell_type": "code",
   "execution_count": 215,
   "metadata": {},
   "outputs": [
    {
     "ename": "TypeError",
     "evalue": "updateStrat() missing 1 required positional argument: 'x'",
     "output_type": "error",
     "traceback": [
      "\u001b[0;31m---------------------------------------------------------------------------\u001b[0m",
      "\u001b[0;31mTypeError\u001b[0m                                 Traceback (most recent call last)",
      "\u001b[0;32m<ipython-input-215-b2cf39339a33>\u001b[0m in \u001b[0;36m<module>\u001b[0;34m\u001b[0m\n\u001b[0;32m----> 1\u001b[0;31m \u001b[0mupdateStrats\u001b[0m\u001b[0;34m(\u001b[0m\u001b[0mgraph\u001b[0m\u001b[0;34m,\u001b[0m \u001b[0mstrats\u001b[0m\u001b[0;34m,\u001b[0m \u001b[0mpayoffs\u001b[0m\u001b[0;34m)\u001b[0m  \u001b[0;31m# line 1: updateStrats(graph, strats, payoffs)\u001b[0m\u001b[0;34m\u001b[0m\u001b[0;34m\u001b[0m\u001b[0m\n\u001b[0m",
      "\u001b[0;32m<ipython-input-214-766bf9b0e40a>\u001b[0m in \u001b[0;36mupdateStrats\u001b[0;34m(graph, strats, payoffs)\u001b[0m\n\u001b[1;32m     41\u001b[0m     \u001b[0m_strats\u001b[0m \u001b[0;34m=\u001b[0m \u001b[0mdeepcopy\u001b[0m\u001b[0;34m(\u001b[0m\u001b[0mstrats\u001b[0m\u001b[0;34m)\u001b[0m  \u001b[0;31m# line 26:     _strats = deepcopy(strats)\u001b[0m\u001b[0;34m\u001b[0m\u001b[0;34m\u001b[0m\u001b[0m\n\u001b[1;32m     42\u001b[0m     \u001b[0;32mfor\u001b[0m \u001b[0mx\u001b[0m \u001b[0;32min\u001b[0m \u001b[0mrange\u001b[0m\u001b[0;34m(\u001b[0m\u001b[0mN\u001b[0m\u001b[0;34m)\u001b[0m\u001b[0;34m:\u001b[0m  \u001b[0;31m# line 27:     for x in range(N):\u001b[0m\u001b[0;34m\u001b[0m\u001b[0;34m\u001b[0m\u001b[0m\n\u001b[0;32m---> 43\u001b[0;31m         \u001b[0m_strats\u001b[0m\u001b[0;34m[\u001b[0m\u001b[0mx\u001b[0m\u001b[0;34m]\u001b[0m \u001b[0;34m=\u001b[0m \u001b[0mupdateStrat\u001b[0m\u001b[0;34m(\u001b[0m\u001b[0mgraph\u001b[0m\u001b[0;34m,\u001b[0m \u001b[0m_strats\u001b[0m\u001b[0;34m,\u001b[0m \u001b[0mpayoffs\u001b[0m\u001b[0;34m)\u001b[0m  \u001b[0;31m# line 28:         _strats[x] = updateStrat(graph, _strats, payoffs)\u001b[0m\u001b[0;34m\u001b[0m\u001b[0;34m\u001b[0m\u001b[0m\n\u001b[0m\u001b[1;32m     44\u001b[0m     \u001b[0;32mreturn\u001b[0m \u001b[0m_strats\u001b[0m  \u001b[0;31m# line 29:     _strats\u001b[0m\u001b[0;34m\u001b[0m\u001b[0;34m\u001b[0m\u001b[0m\n",
      "\u001b[0;31mTypeError\u001b[0m: updateStrat() missing 1 required positional argument: 'x'"
     ]
    }
   ],
   "source": [
    "updateStrats(graph, strats, payoffs)"
   ]
  },
  {
   "cell_type": "code",
   "execution_count": 102,
   "metadata": {},
   "outputs": [],
   "source": [
    "# 1 round of all connections playing one another\n",
    "def cumulativePayoffs(graph, strats):\n",
    "    payoffs = initPayoffs(N)\n",
    "    idPlayDilemma = playDilemma$(strats) \n",
    "    for [x,y] in graph.iter_edges():\n",
    "        px,py = idPlayDilemma(x,y)\n",
    "        payoffs[x] += px\n",
    "        payoffs[y] += py\n",
    "    return payoffs"
   ]
  },
  {
   "cell_type": "code",
   "execution_count": 103,
   "metadata": {},
   "outputs": [],
   "source": [
    "# Plots\n",
    "def drawGraph(graph) = graph_draw(graph, bg_color=\"white\") \n",
    "def plotHist(_list, bins) = pd.Series(_list).hist(bins = bins)"
   ]
  },
  {
   "cell_type": "code",
   "execution_count": 105,
   "metadata": {},
   "outputs": [
    {
     "data": {
      "text/plain": [
       "<matplotlib.axes._subplots.AxesSubplot at 0x7f368d4d1040>"
      ]
     },
     "execution_count": 105,
     "metadata": {},
     "output_type": "execute_result"
    },
    {
     "data": {
      "image/png": "[encoded data removed]",
      "text/plain": [
       "<Figure size 432x288 with 1 Axes>"
      ]
     },
     "metadata": {
      "needs_background": "light"
     },
     "output_type": "display_data"
    }
   ],
   "source": [
    "dilemma = makeDilemma()\n",
    "strats = initStrats(N)\n",
    "payoffs = cumulativePayoffs(graph, strats)\n",
    "plotHist(payoffs, 40)"
   ]
  },
  {
   "cell_type": "code",
   "execution_count": null,
   "metadata": {},
   "outputs": [],
   "source": []
  },
  {
   "cell_type": "code",
   "execution_count": 60,
   "metadata": {},
   "outputs": [
    {
     "data": {
      "text/plain": [
       "['_Graph__edge_index',\n",
       " '_Graph__edge_properties',\n",
       " '_Graph__filter_state',\n",
       " '_Graph__get_base',\n",
       " '_Graph__get_file_format',\n",
       " '_Graph__graph',\n",
       " '_Graph__graph_properties',\n",
       " '_Graph__known_properties',\n",
       " '_Graph__properties',\n",
       " '_Graph__vertex_index',\n",
       " '_Graph__vertex_properties',\n",
       " '__class__',\n",
       " '__copy__',\n",
       " '__deepcopy__',\n",
       " '__delattr__',\n",
       " '__dict__',\n",
       " '__dir__',\n",
       " '__doc__',\n",
       " '__eq__',\n",
       " '__format__',\n",
       " '__ge__',\n",
       " '__getattribute__',\n",
       " '__getstate__',\n",
       " '__gt__',\n",
       " '__hash__',\n",
       " '__init__',\n",
       " '__init_subclass__',\n",
       " '__le__',\n",
       " '__lt__',\n",
       " '__module__',\n",
       " '__ne__',\n",
       " '__new__',\n",
       " '__reduce__',\n",
       " '__reduce_ex__',\n",
       " '__repr__',\n",
       " '__setattr__',\n",
       " '__setstate__',\n",
       " '__sizeof__',\n",
       " '__str__',\n",
       " '__subclasshook__',\n",
       " '__weakref__',\n",
       " '_get_any',\n",
       " '_get_edge_index',\n",
       " '_get_edge_index_range',\n",
       " '_get_vertex_index',\n",
       " 'add_edge',\n",
       " 'add_edge_list',\n",
       " 'add_vertex',\n",
       " 'base',\n",
       " 'clear',\n",
       " 'clear_edges',\n",
       " 'clear_filters',\n",
       " 'clear_vertex',\n",
       " 'copy',\n",
       " 'copy_property',\n",
       " 'degree_property_map',\n",
       " 'edge',\n",
       " 'edge_index',\n",
       " 'edge_index_range',\n",
       " 'edge_properties',\n",
       " 'edges',\n",
       " 'ep',\n",
       " 'get_all_edges',\n",
       " 'get_all_neighbors',\n",
       " 'get_all_neighbours',\n",
       " 'get_edge_filter',\n",
       " 'get_edges',\n",
       " 'get_fast_edge_removal',\n",
       " 'get_filter_state',\n",
       " 'get_in_degrees',\n",
       " 'get_in_edges',\n",
       " 'get_in_neighbors',\n",
       " 'get_in_neighbours',\n",
       " 'get_out_degrees',\n",
       " 'get_out_edges',\n",
       " 'get_out_neighbors',\n",
       " 'get_out_neighbours',\n",
       " 'get_total_degrees',\n",
       " 'get_vertex_filter',\n",
       " 'get_vertices',\n",
       " 'gp',\n",
       " 'graph_properties',\n",
       " 'is_directed',\n",
       " 'is_reversed',\n",
       " 'iter_all_edges',\n",
       " 'iter_all_neighbors',\n",
       " 'iter_all_neighbours',\n",
       " 'iter_edges',\n",
       " 'iter_in_edges',\n",
       " 'iter_in_neighbors',\n",
       " 'iter_in_neighbours',\n",
       " 'iter_out_edges',\n",
       " 'iter_out_neighbors',\n",
       " 'iter_out_neighbours',\n",
       " 'iter_vertices',\n",
       " 'list_properties',\n",
       " 'load',\n",
       " 'new_edge_property',\n",
       " 'new_ep',\n",
       " 'new_gp',\n",
       " 'new_graph_property',\n",
       " 'new_property',\n",
       " 'new_vertex_property',\n",
       " 'new_vp',\n",
       " 'num_edges',\n",
       " 'num_vertices',\n",
       " 'own_property',\n",
       " 'properties',\n",
       " 'purge_edges',\n",
       " 'purge_vertices',\n",
       " 'reindex_edges',\n",
       " 'remove_edge',\n",
       " 'remove_vertex',\n",
       " 'save',\n",
       " 'set_directed',\n",
       " 'set_edge_filter',\n",
       " 'set_fast_edge_removal',\n",
       " 'set_filter_state',\n",
       " 'set_filters',\n",
       " 'set_reversed',\n",
       " 'set_vertex_filter',\n",
       " 'shrink_to_fit',\n",
       " 'vertex',\n",
       " 'vertex_index',\n",
       " 'vertex_properties',\n",
       " 'vertices',\n",
       " 'vp']"
      ]
     },
     "execution_count": 60,
     "metadata": {},
     "output_type": "execute_result"
    }
   ],
   "source": [
    "dir(graph)\n"
   ]
  },
  {
   "cell_type": "code",
   "execution_count": 112,
   "metadata": {},
   "outputs": [
    {
     "data": {
      "text/plain": [
       "86"
      ]
     },
     "execution_count": 112,
     "metadata": {},
     "output_type": "execute_result"
    }
   ],
   "source": [
    "graph.vertex(0).out_degree()"
   ]
  }
 ],
 "metadata": {
  "kernelspec": {
   "display_name": "Coconut (Python 3)",
   "language": "coconut",
   "name": "coconut3"
  },
  "language_info": {
   "codemirror_mode": {
    "name": "python",
    "version": 3
   },
   "file_extension": ".coco",
   "mimetype": "text/x-python3",
   "name": "coconut",
   "pygments_lexer": "coconut",
   "version": "1.4.3"
  }
 },
 "nbformat": 4,
 "nbformat_minor": 4
}
