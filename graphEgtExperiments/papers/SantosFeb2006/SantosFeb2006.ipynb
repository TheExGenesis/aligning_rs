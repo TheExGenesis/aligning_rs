{
 "cells": [
  {
   "cell_type": "code",
   "execution_count": 227,
   "metadata": {},
   "outputs": [],
   "source": [
    "import graph_tool as gt\n",
    "from graph_tool.draw import graph_draw\n",
    "import graph_tool.collection\n",
    "import graph_tool.generation as gen\n",
    "import axelrod as axl\n",
    "import pandas as pd\n",
    "import toolz as tz\n",
    "import numpy as np  \n",
    "import matplotlib.pyplot as plt\n",
    "from random import choice, sample\n",
    "from copy import deepcopy\n",
    "from collections import Counter\n",
    "%matplotlib inline\n"
   ]
  },
  {
   "cell_type": "code",
   "execution_count": null,
   "metadata": {},
   "outputs": [],
   "source": [
    "# project params\n",
    "outputPath = './sf.png'\n"
   ]
  },
  {
   "cell_type": "code",
   "execution_count": 220,
   "metadata": {},
   "outputs": [],
   "source": [
    "# network params\n",
    "_N = 1000\n",
    "_m = 2\n",
    "_c = 0 \n",
    "_gamma = 1\n",
    "\n",
    "# game params\n",
    "_R=1\n",
    "_P=0\n",
    "_T=1.5 # T€[0,2] \n",
    "_S=-.5 # S€[-1,1]\n",
    "\n",
    "# evo params\n",
    "_episode_n = 100"
   ]
  },
  {
   "cell_type": "markdown",
   "metadata": {},
   "source": [
    "| p1/p2 | C | D |\n",
    "| --- | --- | --- |\n",
    "| C | 1 , 1 | -.5 , 1.5 |\n",
    "| D | 1.5 , -.5 | 0 , 0 |"
   ]
  },
  {
   "cell_type": "code",
   "execution_count": 242,
   "metadata": {},
   "outputs": [],
   "source": [
    "'''Init''' \n",
    "C = 'C'\n",
    "D = 'D'\n",
    "def initStrats(N) = [choice([C,D]) for i in range(N)]\n",
    "def initPayoffs(N) = [0 for i in range(N)]\n",
    "'''Graph'''\n",
    "def initGraph(N=_N, m=_m, c=_c, gamma=_gamma) = gen.price_network(N=N, m=m, c=c, gamma=gamma, directed=False)\n",
    "def getNeighborIds(id) = graph.vertex(id).out_neighbors() |> map$(int) |> list\n",
    "def sampleNeighbor(id) = choice(getNeighborIds(id))\n",
    "'''Games'''\n",
    "def makeDilemma(R=_R, P=_P, T=_T, S=_S) = {C:{C:[R,R], D:[S,T]}, D:{C:[T,S], D:[P,P]}} # T€[0,2] S€[-1,1]\n",
    "# playDilemma :: [strat] -> id -> id -> float\n",
    "def playDilemma(strats, id1, id2) = dilemma[strats[id1]][strats[id2]]\n",
    "# cumulativePayoffs :: graph -> [strat] # 1 round of all connections playing one another\n",
    "def cumulativePayoffs(graph, strats):\n",
    "    payoffs = initPayoffs(N)\n",
    "    idPlayDilemma = playDilemma$(strats) \n",
    "    for [x,y] in graph.iter_edges():\n",
    "        px,py = idPlayDilemma(x,y)\n",
    "        payoffs[x] += px\n",
    "        payoffs[y] += py\n",
    "    return payoffs\n",
    "\n",
    "'''Evolution'''\n",
    "def calcK(graph, x, y) = \n",
    "    def deg(z) = graph.vertex(z).out_degree()\n",
    "    max(deg(x), deg(y))\n",
    "def calcD(T=_T, S=_S) = max(T, 1) - min(S, 0)\n",
    "def transProb(calcK, P, x, y) = (P[y] - P[x]) / (calcK(x, y) * calcD())\n",
    "# updateStrat :: graph -> [strat] -> [float] -> id -> strat\n",
    "def updateStrat(graph, strats, payoffs, x) = \n",
    "    _calcK = calcK$(graph)\n",
    "    y = sampleNeighbor(x)\n",
    "    p = transProb(_calcK, payoffs, x, y)\n",
    "    strats[x] if payoffs[x] > payoffs[y] else np.random.choice([strats[y], strats[x]], p=[p, 1-p])\n",
    "# updateStrat :: graph -> [strat] -> [float] -> [strat]\n",
    "def updateStrats(graph, strats, payoffs):\n",
    "    _strats = deepcopy(strats)\n",
    "    for x in range(N):\n",
    "        _strats[x] = updateStrat(graph, _strats, payoffs, x)\n",
    "    return _strats\n",
    "# runEvolution :: int -> graph -> [strat] -> [float] -> [[strat]]\n",
    "def runEvolution(episode_n, graph, strats, payoffs):\n",
    "    episodes = [strats]\n",
    "    totalPayoffs = initPayoffs(N)\n",
    "    _strats = []\n",
    "    for i in range(episode_n):\n",
    "        payoffs = cumulativePayoffs(graph, strats)\n",
    "        _strats = updateStrats(graph, strats, payoffs)\n",
    "        episodes.append(deepcopy(_strats))\n",
    "        totalPayoffs = np.add(totalPayoffs, payoffs)\n",
    "        strats = _strats\n",
    "    return totalPayoffs, episodes\n",
    "\n",
    "def runExperiment():\n",
    "    strats = initStrats(N)\n",
    "    totalPayoffs = initPayoffs(N)\n",
    "    totalPayoffs, episodes = runEvolution(50, graph, strats, totalPayoffs)\n",
    "    return (totalPayoffs, episodes)\n",
    "\n"
   ]
  },
  {
   "cell_type": "code",
   "execution_count": 244,
   "metadata": {},
   "outputs": [],
   "source": [
    "totalPayoffs, episodes = runExperiment()"
   ]
  },
  {
   "cell_type": "code",
   "execution_count": 247,
   "metadata": {},
   "outputs": [
    {
     "data": {
      "text/plain": [
       "<matplotlib.axes._subplots.AxesSubplot at 0x7f368cdd0550>"
      ]
     },
     "execution_count": 247,
     "metadata": {},
     "output_type": "execute_result"
    },
    {
     "data": {
      "image/png": "[encoded data removed]",
      "text/plain": [
       "<Figure size 432x288 with 1 Axes>"
      ]
     },
     "metadata": {
      "needs_background": "light"
     },
     "output_type": "display_data"
    }
   ],
   "source": [
    "# Total distribution of payoffs by the end of the simulation\n",
    "plotHist(totalPayoffs, 40)"
   ]
  },
  {
   "cell_type": "code",
   "execution_count": 250,
   "metadata": {},
   "outputs": [
    {
     "data": {
      "text/plain": [
       "<matplotlib.axes._subplots.AxesSubplot at 0x7f36878baee0>"
      ]
     },
     "execution_count": 250,
     "metadata": {},
     "output_type": "execute_result"
    },
    {
     "data": {
      "image/png": "[encoded data removed]",
      "text/plain": [
       "<Figure size 432x288 with 1 Axes>"
      ]
     },
     "metadata": {
      "needs_background": "light"
     },
     "output_type": "display_data"
    }
   ],
   "source": [
    "# Evolutions of the number of Cooperators and Defectors over time\n",
    "plotStratEvo(episodes)"
   ]
  },
  {
   "cell_type": "code",
   "execution_count": 249,
   "metadata": {},
   "outputs": [],
   "source": [
    "# Plots\n",
    "def drawGraph(graph) = graph_draw(graph, bg_color=\"white\") \n",
    "def plotHist(_list, bins) = pd.Series(_list).hist(bins = bins)\n",
    "def plotStratEvo(episodes) = pd.DataFrame([dict(Counter(ep)) for ep in episodes]).plot.line()"
   ]
  },
  {
   "cell_type": "code",
   "execution_count": 238,
   "metadata": {},
   "outputs": [],
   "source": [
    "dilemma = makeDilemma()\n",
    "strats = initStrats(N)\n",
    "payoffs = cumulativePayoffs(graph, strats)\n",
    "episodes = runEvolution(50, graph, strats, payoffs)\n"
   ]
  },
  {
   "cell_type": "code",
   "execution_count": null,
   "metadata": {},
   "outputs": [],
   "source": []
  }
 ],
 "metadata": {
  "kernelspec": {
   "display_name": "Coconut (Python 3)",
   "language": "coconut",
   "name": "coconut3"
  },
  "language_info": {
   "codemirror_mode": {
    "name": "python",
    "version": 3
   },
   "file_extension": ".coco",
   "mimetype": "text/x-python3",
   "name": "coconut",
   "pygments_lexer": "coconut",
   "version": "1.4.3"
  }
 },
 "nbformat": 4,
 "nbformat_minor": 4
}
